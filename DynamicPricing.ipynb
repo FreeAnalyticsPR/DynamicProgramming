{
  "nbformat": 4,
  "nbformat_minor": 0,
  "metadata": {
    "colab": {
      "provenance": []
    },
    "kernelspec": {
      "name": "python3",
      "display_name": "Python 3"
    },
    "language_info": {
      "name": "python"
    }
  },
  "cells": [
    {
      "cell_type": "markdown",
      "source": [
        "# 動的計画法\n",
        "\n",
        "\n",
        "*   ダイナミックプライシング例題\n",
        "*   Python\n",
        "\n"
      ],
      "metadata": {
        "id": "mR8WS9_6Z8hq"
      }
    },
    {
      "cell_type": "markdown",
      "source": [
        "#### ライブラリ読込"
      ],
      "metadata": {
        "id": "Ql5U2Z3UjZwR"
      }
    },
    {
      "cell_type": "code",
      "source": [
        "import numpy as np\n",
        "import matplotlib.pyplot as plt"
      ],
      "metadata": {
        "id": "ZZh19GNYZ-NZ"
      },
      "execution_count": 1,
      "outputs": []
    },
    {
      "cell_type": "markdown",
      "source": [
        "#### パラメータ設定\n",
        "\n",
        "\n",
        "*   モデルとパラメータを設計する。\n",
        "\n"
      ],
      "metadata": {
        "id": "KRgMYFEbjdDM"
      }
    },
    {
      "cell_type": "code",
      "source": [
        "T = 1000  # 販売期間（日数）\n",
        "N = 5000  # 在庫数\n",
        "prices = np.array([5, 7, 10, 12, 15, 17, 20, 30, 40, 50, 75, 100])  # 価格候補\n",
        "alpha = 0.3  # 需要価格感応度\n",
        "max_demand = 1000  # 価格0のときの需要最大値"
      ],
      "metadata": {
        "id": "RoJO4TFYjK44"
      },
      "execution_count": 2,
      "outputs": []
    },
    {
      "cell_type": "markdown",
      "source": [
        "#### シミュレーション"
      ],
      "metadata": {
        "id": "KD1tTWKWjj_Z"
      }
    },
    {
      "cell_type": "code",
      "source": [
        "# 需要関数（価格依存）\n",
        "def demand(p):\n",
        "    return max(0, int(max_demand * np.exp(-alpha * p)))\n",
        "\n",
        "# -----------------------\n",
        "# 動的計画法テーブル\n",
        "# -----------------------\n",
        "# dp[t][n]: t日目、在庫n個のときの最大期待収益\n",
        "dp = np.zeros((T+1, N+1))\n",
        "policy = np.zeros((T+1, N+1))  # 最適価格保存\n",
        "\n",
        "# 後ろから計算\n",
        "for t in range(T-1, -1, -1):\n",
        "    for n in range(N+1):\n",
        "        best_revenue = 0\n",
        "        best_price = prices[0]\n",
        "        for p in prices:\n",
        "            sell_qty = min(n, demand(p))\n",
        "            revenue = p * sell_qty + dp[t+1][n - sell_qty]\n",
        "            if revenue > best_revenue:\n",
        "                best_revenue = revenue\n",
        "                best_price = p\n",
        "        dp[t][n] = best_revenue\n",
        "        policy[t][n] = best_price\n",
        "\n",
        "# -----------------------\n",
        "# 最適戦略のシミュレーション\n",
        "# -----------------------\n",
        "inventory = N\n",
        "revenue_history = []\n",
        "\n",
        "for t in range(T):\n",
        "    price = policy[t][inventory]\n",
        "    sell_qty = min(inventory, demand(price))\n",
        "    revenue = price * sell_qty\n",
        "    inventory -= sell_qty\n",
        "    revenue_history.append(revenue)\n",
        "\n",
        "print(\"総収益:\", sum(revenue_history))\n",
        "print(\"日ごとの価格戦略:\", policy[:T, N].astype(int))\n",
        "print(\"日ごとの売上:\", revenue_history)"
      ],
      "metadata": {
        "colab": {
          "base_uri": "https://localhost:8080/"
        },
        "id": "bBgCsAe9jRgb",
        "outputId": "69fad098-1bef-4b1d-b8d2-56a691c0ab3c"
      },
      "execution_count": 3,
      "outputs": [
        {
          "output_type": "stream",
          "name": "stdout",
          "text": [
            "総収益: 86500.0\n",
            "日ごとの価格戦略: [17 17 17 17 17 17 17 17 17 17 17 17 17 17 17 17 17 17 17 17 17 17 17 17\n",
            " 17 17 17 17 17 17 17 17 17 17 17 17 17 17 17 17 17 17 17 17 17 17 17 17\n",
            " 17 17 17 17 17 17 17 17 17 17 17 17 17 17 17 17 17 17 17 17 17 17 17 17\n",
            " 17 17 17 17 17 17 17 17 17 17 17 17 17 17 17 17 17 17 17 17 17 17 17 17\n",
            " 17 17 17 17 17 17 17 17 17 17 17 17 17 17 17 17 17 17 17 17 17 17 17 17\n",
            " 17 17 17 17 17 17 17 17 17 17 17 17 17 17 17 17 17 17 17 17 17 17 17 17\n",
            " 17 17 17 17 17 17 17 17 17 17 17 17 17 17 17 17 17 17 17 17 17 17 17 17\n",
            " 15 15 15 15 15 15 15 15 15 15 15 15 15 15 15 15 15 15 15 15 15 15 15 15\n",
            " 15 15 15 15 15 15 15 15 15 15 15 15 15 15 15 15 15 15 15 15 15 15 15 15\n",
            " 15 15 15 15 15 15 15 15 15 15 15 15 15 15 15 15 15 15 15 15 15 15 15 15\n",
            " 15 15 15 15 15 15 15 15 15 15 15 15 15 15 15 15 15 15 15 15 15 15 15 15\n",
            " 15 15 15 15 15 15 15 15 15 15 15 15 15 15 15 15 15 15 15 15 15 15 15 15\n",
            " 15 15 15 15 15 15 15 15 15 15 15 15 15 15 15 15 15 15 15 15 15 15 15 15\n",
            " 15 15 15 15 15 15 15 15 15 15 15 15 15 15 15 15 15 15 15 15 15 15 15 15\n",
            " 15 15 15 15 15 15 15 15 15 15 15 15 15 15 15 15 15 15 15 15 15 15 15 15\n",
            " 15 15 15 15 15 15 15 15 15 15 15 15 15 15 15 15 15 15 15 15 15 15 15 15\n",
            " 15 15 15 15 15 15 15 15 15 15 15 15 15 15 15 15 15 15 15 15 15 15 15 15\n",
            " 15 15 15 15 15 15 15 15 15 15 15 15 15 15 15 15 15 15 15 15 15 15 15 15\n",
            " 15 15 15 15 15 15 15 15 15 15 15 15 15 15 15 15 15 15 15 15 15 15 15 15\n",
            " 15 15 15 15 15 15 15 15 15 15 15 15 15 15 15 15 15 15 15 15 15 15 15 15\n",
            " 15 15 15 15 15 15 15 15 15 15 15 15 15 15 15 15 15 15 15 15 15 15 15 15\n",
            " 15 15 15 15 15 15 15 15 15 15 15 15 15 15 15 15 15 15 15 15 15 15 15 15\n",
            " 15 15 15 15 15 15 15 15 15 15 15 15 15 15 15 15 15 15 15 12 12 12 12 12\n",
            " 12 12 12 12 12 12 12 12 12 12 12 12 12 12 12 12 12 12 12 12 12 12 12 12\n",
            " 12 12 12 12 12 12 12 12 12 12 12 12 12 12 12 12 12 12 12 12 12 12 12 12\n",
            " 12 12 12 12 12 12 12 12 12 12 12 12 12 12 12 12 12 12 12 12 12 12 12 12\n",
            " 12 12 12 12 12 12 12 12 12 12 12 12 12 12 12 12 12 12 12 12 12 12 12 12\n",
            " 12 12 12 12 12 12 12 12 12 12 12 12 12 12 12 12 12 12 12 12 12 12 12 12\n",
            " 12 12 12 12 12 12 12 12 12 12 12 12 12 12 12 12 12 12 12 12 12 12 12 12\n",
            " 12 12 12 12 12 12 12 12 12 12 12 12 12 12 12 12 12 12 12 12 12 12 12 12\n",
            " 12 12 12 12 12 12 12 12 12 12 12 12 12 12 12 12 12 12 12 12 12 12 12 12\n",
            " 12 12 12 12 12 12 12 12 12 12 12 12 12 12 12 12 12 12 12 12 12 12 12 12\n",
            " 12 12 12 12 12 12 12 12 12 12 12 12 12 12 12 12 12 12 12 12 12 12 12 12\n",
            " 12 12 12 12 12 12 12 12 12 12 12 12 12 12 12 12 12 12 12 12 12 12 12 12\n",
            " 10 10 10 10 10 10 10 10 10 10 10 10 10 10 10 10 10 10 10 10 10 10 10 10\n",
            " 10 10 10 10 10 10 10 10 10 10 10 10 10 10 10 10 10 10 10 10 10 10 10 10\n",
            " 10 10 10 10 10 10 10 10 10 10 10 10 10 10 10 10 10 10 10 10 10 10 10 10\n",
            " 10 10 10 10 10 10 10 10 10 10 10 10  7  7  7  7  7  7  7  7  7  7  7  7\n",
            "  7  7  7  7  7  7  7  7  7  7  7  7  7  7  7  7  7  7  7  7  7  7  7  7\n",
            "  7  7  7  7  7  7  7  7  7  7  7  7  7  7  7  7  7  7  7  7  7  7  7  7\n",
            "  5  5  5  5  5  5  5  5  5  5  5  5  5  5  5  5  5  5  5  5  5  5  5  5\n",
            "  5  5  5  5  5  5  5  5  5  5  5  5  5  5  5  5]\n",
            "日ごとの売上: [np.float64(102.0), np.float64(102.0), np.float64(102.0), np.float64(102.0), np.float64(102.0), np.float64(102.0), np.float64(102.0), np.float64(102.0), np.float64(102.0), np.float64(102.0), np.float64(102.0), np.float64(102.0), np.float64(102.0), np.float64(102.0), np.float64(102.0), np.float64(102.0), np.float64(102.0), np.float64(102.0), np.float64(102.0), np.float64(102.0), np.float64(102.0), np.float64(102.0), np.float64(102.0), np.float64(102.0), np.float64(102.0), np.float64(102.0), np.float64(102.0), np.float64(102.0), np.float64(102.0), np.float64(102.0), np.float64(102.0), np.float64(102.0), np.float64(102.0), np.float64(102.0), np.float64(102.0), np.float64(102.0), np.float64(102.0), np.float64(102.0), np.float64(102.0), np.float64(102.0), np.float64(102.0), np.float64(102.0), np.float64(102.0), np.float64(102.0), np.float64(102.0), np.float64(102.0), np.float64(102.0), np.float64(102.0), np.float64(102.0), np.float64(102.0), np.float64(102.0), np.float64(102.0), np.float64(102.0), np.float64(102.0), np.float64(102.0), np.float64(102.0), np.float64(102.0), np.float64(102.0), np.float64(102.0), np.float64(102.0), np.float64(102.0), np.float64(102.0), np.float64(102.0), np.float64(102.0), np.float64(102.0), np.float64(102.0), np.float64(102.0), np.float64(102.0), np.float64(102.0), np.float64(102.0), np.float64(102.0), np.float64(102.0), np.float64(102.0), np.float64(102.0), np.float64(102.0), np.float64(102.0), np.float64(102.0), np.float64(102.0), np.float64(102.0), np.float64(102.0), np.float64(102.0), np.float64(102.0), np.float64(102.0), np.float64(102.0), np.float64(102.0), np.float64(102.0), np.float64(102.0), np.float64(102.0), np.float64(102.0), np.float64(102.0), np.float64(102.0), np.float64(102.0), np.float64(102.0), np.float64(102.0), np.float64(102.0), np.float64(102.0), np.float64(102.0), np.float64(102.0), np.float64(102.0), np.float64(102.0), np.float64(102.0), np.float64(102.0), np.float64(102.0), np.float64(102.0), np.float64(102.0), np.float64(102.0), np.float64(102.0), np.float64(102.0), np.float64(102.0), np.float64(102.0), np.float64(102.0), np.float64(102.0), np.float64(102.0), np.float64(102.0), np.float64(102.0), np.float64(102.0), np.float64(102.0), np.float64(102.0), np.float64(102.0), np.float64(102.0), np.float64(102.0), np.float64(102.0), np.float64(102.0), np.float64(102.0), np.float64(102.0), np.float64(102.0), np.float64(102.0), np.float64(102.0), np.float64(102.0), np.float64(102.0), np.float64(102.0), np.float64(102.0), np.float64(102.0), np.float64(102.0), np.float64(102.0), np.float64(102.0), np.float64(102.0), np.float64(102.0), np.float64(102.0), np.float64(102.0), np.float64(102.0), np.float64(102.0), np.float64(102.0), np.float64(102.0), np.float64(102.0), np.float64(102.0), np.float64(102.0), np.float64(102.0), np.float64(102.0), np.float64(102.0), np.float64(102.0), np.float64(102.0), np.float64(102.0), np.float64(102.0), np.float64(102.0), np.float64(102.0), np.float64(102.0), np.float64(102.0), np.float64(102.0), np.float64(102.0), np.float64(102.0), np.float64(102.0), np.float64(102.0), np.float64(102.0), np.float64(102.0), np.float64(102.0), np.float64(102.0), np.float64(102.0), np.float64(102.0), np.float64(102.0), np.float64(102.0), np.float64(102.0), np.float64(102.0), np.float64(102.0), np.float64(102.0), np.float64(102.0), np.float64(102.0), np.float64(102.0), np.float64(102.0), np.float64(102.0), np.float64(102.0), np.float64(102.0), np.float64(102.0), np.float64(102.0), np.float64(102.0), np.float64(102.0), np.float64(102.0), np.float64(102.0), np.float64(102.0), np.float64(102.0), np.float64(102.0), np.float64(102.0), np.float64(102.0), np.float64(102.0), np.float64(102.0), np.float64(102.0), np.float64(102.0), np.float64(102.0), np.float64(102.0), np.float64(102.0), np.float64(102.0), np.float64(102.0), np.float64(102.0), np.float64(102.0), np.float64(102.0), np.float64(102.0), np.float64(102.0), np.float64(102.0), np.float64(102.0), np.float64(102.0), np.float64(102.0), np.float64(102.0), np.float64(102.0), np.float64(102.0), np.float64(102.0), np.float64(102.0), np.float64(102.0), np.float64(102.0), np.float64(102.0), np.float64(102.0), np.float64(102.0), np.float64(102.0), np.float64(102.0), np.float64(102.0), np.float64(102.0), np.float64(102.0), np.float64(102.0), np.float64(102.0), np.float64(102.0), np.float64(102.0), np.float64(102.0), np.float64(102.0), np.float64(102.0), np.float64(102.0), np.float64(102.0), np.float64(102.0), np.float64(102.0), np.float64(102.0), np.float64(102.0), np.float64(102.0), np.float64(102.0), np.float64(102.0), np.float64(102.0), np.float64(102.0), np.float64(102.0), np.float64(102.0), np.float64(102.0), np.float64(102.0), np.float64(102.0), np.float64(102.0), np.float64(102.0), np.float64(102.0), np.float64(102.0), np.float64(102.0), np.float64(102.0), np.float64(102.0), np.float64(102.0), np.float64(102.0), np.float64(102.0), np.float64(102.0), np.float64(102.0), np.float64(102.0), np.float64(102.0), np.float64(102.0), np.float64(102.0), np.float64(102.0), np.float64(102.0), np.float64(102.0), np.float64(102.0), np.float64(102.0), np.float64(102.0), np.float64(102.0), np.float64(102.0), np.float64(102.0), np.float64(102.0), np.float64(102.0), np.float64(102.0), np.float64(102.0), np.float64(102.0), np.float64(102.0), np.float64(102.0), np.float64(102.0), np.float64(102.0), np.float64(102.0), np.float64(102.0), np.float64(102.0), np.float64(102.0), np.float64(102.0), np.float64(102.0), np.float64(102.0), np.float64(102.0), np.float64(102.0), np.float64(102.0), np.float64(102.0), np.float64(102.0), np.float64(102.0), np.float64(102.0), np.float64(102.0), np.float64(102.0), np.float64(102.0), np.float64(102.0), np.float64(102.0), np.float64(102.0), np.float64(102.0), np.float64(102.0), np.float64(102.0), np.float64(102.0), np.float64(102.0), np.float64(102.0), np.float64(102.0), np.float64(102.0), np.float64(102.0), np.float64(102.0), np.float64(102.0), np.float64(102.0), np.float64(102.0), np.float64(102.0), np.float64(102.0), np.float64(102.0), np.float64(102.0), np.float64(102.0), np.float64(102.0), np.float64(102.0), np.float64(102.0), np.float64(102.0), np.float64(102.0), np.float64(102.0), np.float64(102.0), np.float64(102.0), np.float64(102.0), np.float64(102.0), np.float64(102.0), np.float64(102.0), np.float64(102.0), np.float64(102.0), np.float64(102.0), np.float64(102.0), np.float64(102.0), np.float64(102.0), np.float64(102.0), np.float64(102.0), np.float64(102.0), np.float64(102.0), np.float64(102.0), np.float64(102.0), np.float64(102.0), np.float64(102.0), np.float64(102.0), np.float64(102.0), np.float64(102.0), np.float64(102.0), np.float64(102.0), np.float64(102.0), np.float64(102.0), np.float64(102.0), np.float64(102.0), np.float64(102.0), np.float64(102.0), np.float64(102.0), np.float64(102.0), np.float64(102.0), np.float64(102.0), np.float64(102.0), np.float64(102.0), np.float64(102.0), np.float64(102.0), np.float64(102.0), np.float64(102.0), np.float64(102.0), np.float64(102.0), np.float64(102.0), np.float64(102.0), np.float64(102.0), np.float64(102.0), np.float64(102.0), np.float64(102.0), np.float64(102.0), np.float64(102.0), np.float64(102.0), np.float64(102.0), np.float64(102.0), np.float64(102.0), np.float64(102.0), np.float64(102.0), np.float64(102.0), np.float64(102.0), np.float64(102.0), np.float64(102.0), np.float64(102.0), np.float64(102.0), np.float64(102.0), np.float64(102.0), np.float64(102.0), np.float64(102.0), np.float64(102.0), np.float64(102.0), np.float64(102.0), np.float64(102.0), np.float64(102.0), np.float64(102.0), np.float64(102.0), np.float64(102.0), np.float64(102.0), np.float64(102.0), np.float64(102.0), np.float64(102.0), np.float64(102.0), np.float64(102.0), np.float64(102.0), np.float64(102.0), np.float64(102.0), np.float64(102.0), np.float64(102.0), np.float64(102.0), np.float64(102.0), np.float64(102.0), np.float64(102.0), np.float64(102.0), np.float64(102.0), np.float64(102.0), np.float64(102.0), np.float64(102.0), np.float64(102.0), np.float64(102.0), np.float64(102.0), np.float64(102.0), np.float64(102.0), np.float64(102.0), np.float64(102.0), np.float64(102.0), np.float64(102.0), np.float64(102.0), np.float64(102.0), np.float64(102.0), np.float64(102.0), np.float64(102.0), np.float64(102.0), np.float64(102.0), np.float64(102.0), np.float64(102.0), np.float64(102.0), np.float64(102.0), np.float64(102.0), np.float64(102.0), np.float64(102.0), np.float64(102.0), np.float64(102.0), np.float64(102.0), np.float64(102.0), np.float64(102.0), np.float64(102.0), np.float64(102.0), np.float64(102.0), np.float64(102.0), np.float64(102.0), np.float64(102.0), np.float64(102.0), np.float64(102.0), np.float64(102.0), np.float64(102.0), np.float64(102.0), np.float64(102.0), np.float64(102.0), np.float64(102.0), np.float64(102.0), np.float64(102.0), np.float64(102.0), np.float64(102.0), np.float64(102.0), np.float64(102.0), np.float64(102.0), np.float64(102.0), np.float64(102.0), np.float64(102.0), np.float64(102.0), np.float64(102.0), np.float64(102.0), np.float64(102.0), np.float64(102.0), np.float64(102.0), np.float64(102.0), np.float64(102.0), np.float64(102.0), np.float64(102.0), np.float64(102.0), np.float64(102.0), np.float64(102.0), np.float64(102.0), np.float64(102.0), np.float64(102.0), np.float64(102.0), np.float64(102.0), np.float64(102.0), np.float64(102.0), np.float64(102.0), np.float64(102.0), np.float64(102.0), np.float64(102.0), np.float64(102.0), np.float64(102.0), np.float64(102.0), np.float64(102.0), np.float64(102.0), np.float64(102.0), np.float64(102.0), np.float64(102.0), np.float64(102.0), np.float64(102.0), np.float64(102.0), np.float64(102.0), np.float64(102.0), np.float64(102.0), np.float64(102.0), np.float64(102.0), np.float64(102.0), np.float64(102.0), np.float64(102.0), np.float64(102.0), np.float64(102.0), np.float64(102.0), np.float64(102.0), np.float64(102.0), np.float64(102.0), np.float64(102.0), np.float64(102.0), np.float64(102.0), np.float64(102.0), np.float64(102.0), np.float64(102.0), np.float64(102.0), np.float64(102.0), np.float64(102.0), np.float64(102.0), np.float64(102.0), np.float64(102.0), np.float64(102.0), np.float64(102.0), np.float64(102.0), np.float64(102.0), np.float64(102.0), np.float64(102.0), np.float64(102.0), np.float64(102.0), np.float64(102.0), np.float64(102.0), np.float64(102.0), np.float64(102.0), np.float64(102.0), np.float64(102.0), np.float64(102.0), np.float64(102.0), np.float64(102.0), np.float64(102.0), np.float64(102.0), np.float64(102.0), np.float64(102.0), np.float64(102.0), np.float64(102.0), np.float64(102.0), np.float64(102.0), np.float64(102.0), np.float64(102.0), np.float64(102.0), np.float64(102.0), np.float64(102.0), np.float64(102.0), np.float64(102.0), np.float64(102.0), np.float64(102.0), np.float64(102.0), np.float64(102.0), np.float64(102.0), np.float64(102.0), np.float64(102.0), np.float64(102.0), np.float64(102.0), np.float64(102.0), np.float64(102.0), np.float64(102.0), np.float64(102.0), np.float64(102.0), np.float64(102.0), np.float64(102.0), np.float64(102.0), np.float64(102.0), np.float64(102.0), np.float64(102.0), np.float64(102.0), np.float64(102.0), np.float64(102.0), np.float64(102.0), np.float64(102.0), np.float64(102.0), np.float64(102.0), np.float64(102.0), np.float64(102.0), np.float64(102.0), np.float64(102.0), np.float64(102.0), np.float64(102.0), np.float64(102.0), np.float64(102.0), np.float64(102.0), np.float64(102.0), np.float64(102.0), np.float64(102.0), np.float64(102.0), np.float64(102.0), np.float64(102.0), np.float64(102.0), np.float64(102.0), np.float64(102.0), np.float64(102.0), np.float64(102.0), np.float64(102.0), np.float64(102.0), np.float64(102.0), np.float64(102.0), np.float64(102.0), np.float64(102.0), np.float64(102.0), np.float64(102.0), np.float64(102.0), np.float64(102.0), np.float64(102.0), np.float64(102.0), np.float64(102.0), np.float64(102.0), np.float64(102.0), np.float64(102.0), np.float64(102.0), np.float64(102.0), np.float64(102.0), np.float64(102.0), np.float64(102.0), np.float64(102.0), np.float64(102.0), np.float64(102.0), np.float64(102.0), np.float64(102.0), np.float64(102.0), np.float64(102.0), np.float64(102.0), np.float64(102.0), np.float64(102.0), np.float64(102.0), np.float64(102.0), np.float64(102.0), np.float64(102.0), np.float64(102.0), np.float64(102.0), np.float64(102.0), np.float64(102.0), np.float64(102.0), np.float64(102.0), np.float64(102.0), np.float64(102.0), np.float64(102.0), np.float64(102.0), np.float64(102.0), np.float64(102.0), np.float64(102.0), np.float64(102.0), np.float64(102.0), np.float64(102.0), np.float64(102.0), np.float64(102.0), np.float64(102.0), np.float64(102.0), np.float64(102.0), np.float64(102.0), np.float64(102.0), np.float64(102.0), np.float64(102.0), np.float64(102.0), np.float64(102.0), np.float64(102.0), np.float64(102.0), np.float64(102.0), np.float64(102.0), np.float64(102.0), np.float64(102.0), np.float64(102.0), np.float64(102.0), np.float64(102.0), np.float64(102.0), np.float64(102.0), np.float64(102.0), np.float64(102.0), np.float64(102.0), np.float64(102.0), np.float64(102.0), np.float64(102.0), np.float64(102.0), np.float64(102.0), np.float64(102.0), np.float64(102.0), np.float64(102.0), np.float64(102.0), np.float64(102.0), np.float64(102.0), np.float64(102.0), np.float64(102.0), np.float64(102.0), np.float64(102.0), np.float64(102.0), np.float64(102.0), np.float64(102.0), np.float64(102.0), np.float64(102.0), np.float64(102.0), np.float64(102.0), np.float64(102.0), np.float64(102.0), np.float64(102.0), np.float64(102.0), np.float64(102.0), np.float64(102.0), np.float64(102.0), np.float64(102.0), np.float64(102.0), np.float64(102.0), np.float64(102.0), np.float64(102.0), np.float64(102.0), np.float64(102.0), np.float64(102.0), np.float64(102.0), np.float64(102.0), np.float64(102.0), np.float64(102.0), np.float64(102.0), np.float64(102.0), np.float64(102.0), np.float64(102.0), np.float64(102.0), np.float64(102.0), np.float64(102.0), np.float64(102.0), np.float64(102.0), np.float64(102.0), np.float64(102.0), np.float64(102.0), np.float64(102.0), np.float64(102.0), np.float64(102.0), np.float64(102.0), np.float64(102.0), np.float64(102.0), np.float64(102.0), np.float64(40.0), np.float64(40.0), np.float64(40.0), np.float64(40.0), np.float64(40.0), np.float64(40.0), np.float64(40.0), np.float64(40.0), np.float64(40.0), np.float64(40.0), np.float64(40.0), np.float64(40.0), np.float64(40.0), np.float64(40.0), np.float64(40.0), np.float64(40.0), np.float64(40.0), np.float64(40.0), np.float64(40.0), np.float64(40.0), np.float64(40.0), np.float64(40.0), np.float64(40.0), np.float64(40.0), np.float64(40.0), np.float64(40.0), np.float64(40.0), np.float64(40.0), np.float64(40.0), np.float64(40.0), np.float64(40.0), np.float64(40.0), np.float64(40.0), np.float64(40.0), np.float64(40.0), np.float64(40.0), np.float64(40.0), np.float64(40.0), np.float64(40.0), np.float64(40.0), np.float64(40.0), np.float64(40.0), np.float64(40.0), np.float64(40.0), np.float64(40.0), np.float64(40.0), np.float64(40.0), np.float64(40.0), np.float64(40.0), np.float64(40.0), np.float64(40.0), np.float64(40.0), np.float64(40.0), np.float64(40.0), np.float64(40.0), np.float64(40.0), np.float64(40.0), np.float64(40.0), np.float64(40.0), np.float64(40.0), np.float64(40.0), np.float64(40.0), np.float64(40.0), np.float64(40.0), np.float64(40.0), np.float64(40.0), np.float64(40.0), np.float64(40.0), np.float64(40.0), np.float64(40.0), np.float64(40.0), np.float64(40.0), np.float64(40.0), np.float64(40.0), np.float64(40.0), np.float64(40.0), np.float64(40.0), np.float64(40.0), np.float64(40.0), np.float64(40.0), np.float64(40.0), np.float64(40.0), np.float64(40.0), np.float64(40.0), np.float64(40.0), np.float64(40.0), np.float64(40.0), np.float64(40.0), np.float64(40.0), np.float64(40.0), np.float64(40.0), np.float64(40.0), np.float64(40.0), np.float64(40.0), np.float64(40.0), np.float64(40.0), np.float64(40.0), np.float64(40.0), np.float64(40.0), np.float64(40.0), np.float64(40.0), np.float64(40.0), np.float64(40.0), np.float64(40.0), np.float64(40.0), np.float64(40.0), np.float64(40.0), np.float64(40.0), np.float64(40.0), np.float64(40.0), np.float64(40.0), np.float64(40.0), np.float64(40.0), np.float64(40.0), np.float64(40.0), np.float64(40.0), np.float64(40.0), np.float64(40.0), np.float64(40.0), np.float64(40.0), np.float64(40.0), np.float64(40.0), np.float64(40.0), np.float64(40.0), np.float64(40.0), np.float64(40.0), np.float64(40.0), np.float64(40.0), np.float64(40.0), np.float64(40.0), np.float64(40.0), np.float64(40.0), np.float64(40.0), np.float64(40.0), np.float64(40.0), np.float64(40.0), np.float64(40.0), np.float64(40.0), np.float64(40.0), np.float64(40.0), np.float64(40.0), np.float64(40.0), np.float64(40.0), np.float64(40.0), np.float64(40.0), np.float64(40.0), np.float64(40.0), np.float64(40.0), np.float64(40.0), np.float64(40.0), np.float64(40.0), np.float64(40.0), np.float64(40.0), np.float64(40.0), np.float64(40.0), np.float64(40.0), np.float64(40.0), np.float64(40.0), np.float64(40.0), np.float64(40.0), np.float64(40.0), np.float64(40.0), np.float64(40.0), np.float64(40.0), np.float64(40.0), np.float64(40.0), np.float64(40.0), np.float64(40.0), np.float64(40.0), np.float64(40.0), np.float64(40.0), np.float64(40.0), np.float64(40.0), np.float64(40.0), np.float64(40.0), np.float64(40.0), np.float64(40.0), np.float64(40.0), np.float64(40.0), np.float64(40.0), np.float64(40.0), np.float64(40.0), np.float64(40.0), np.float64(40.0), np.float64(40.0), np.float64(40.0), np.float64(40.0), np.float64(40.0), np.float64(40.0), np.float64(40.0), np.float64(40.0), np.float64(40.0), np.float64(40.0), np.float64(40.0), np.float64(40.0), np.float64(40.0), np.float64(40.0), np.float64(40.0), np.float64(40.0), np.float64(40.0), np.float64(40.0), np.float64(40.0), np.float64(40.0), np.float64(40.0), np.float64(40.0), np.float64(40.0), np.float64(40.0), np.float64(40.0), np.float64(40.0), np.float64(40.0), np.float64(40.0), np.float64(40.0), np.float64(40.0), np.float64(40.0), np.float64(40.0), np.float64(40.0), np.float64(40.0), np.float64(40.0), np.float64(40.0), np.float64(40.0), np.float64(40.0), np.float64(40.0), np.float64(40.0), np.float64(40.0), np.float64(40.0), np.float64(40.0), np.float64(40.0), np.float64(40.0), np.float64(40.0), np.float64(40.0), np.float64(40.0), np.float64(40.0), np.float64(40.0), np.float64(40.0), np.float64(40.0), np.float64(40.0), np.float64(40.0), np.float64(40.0), np.float64(40.0), np.float64(40.0), np.float64(40.0), np.float64(40.0), np.float64(40.0), np.float64(40.0), np.float64(40.0), np.float64(40.0), np.float64(40.0), np.float64(40.0), np.float64(40.0), np.float64(40.0)]\n"
          ]
        }
      ]
    },
    {
      "cell_type": "code",
      "source": [
        "# -----------------------\n",
        "# 可視化\n",
        "# -----------------------\n",
        "plt.plot(range(1, T+1), revenue_history, marker='o')\n",
        "plt.xlabel(\"日数\")\n",
        "plt.ylabel(\"収益\")\n",
        "plt.title(\"日ごとの収益推移\")\n",
        "plt.grid(True)\n",
        "plt.show()"
      ],
      "metadata": {
        "colab": {
          "base_uri": "https://localhost:8080/",
          "height": 799
        },
        "id": "UKaEYhbzq-bR",
        "outputId": "febf525b-29f1-4c8f-9996-8fff627b2f1b"
      },
      "execution_count": 4,
      "outputs": [
        {
          "output_type": "stream",
          "name": "stderr",
          "text": [
            "/usr/local/lib/python3.12/dist-packages/IPython/core/pylabtools.py:151: UserWarning: Glyph 21454 (\\N{CJK UNIFIED IDEOGRAPH-53CE}) missing from font(s) DejaVu Sans.\n",
            "  fig.canvas.print_figure(bytes_io, **kw)\n",
            "/usr/local/lib/python3.12/dist-packages/IPython/core/pylabtools.py:151: UserWarning: Glyph 30410 (\\N{CJK UNIFIED IDEOGRAPH-76CA}) missing from font(s) DejaVu Sans.\n",
            "  fig.canvas.print_figure(bytes_io, **kw)\n",
            "/usr/local/lib/python3.12/dist-packages/IPython/core/pylabtools.py:151: UserWarning: Glyph 26085 (\\N{CJK UNIFIED IDEOGRAPH-65E5}) missing from font(s) DejaVu Sans.\n",
            "  fig.canvas.print_figure(bytes_io, **kw)\n",
            "/usr/local/lib/python3.12/dist-packages/IPython/core/pylabtools.py:151: UserWarning: Glyph 12372 (\\N{HIRAGANA LETTER GO}) missing from font(s) DejaVu Sans.\n",
            "  fig.canvas.print_figure(bytes_io, **kw)\n",
            "/usr/local/lib/python3.12/dist-packages/IPython/core/pylabtools.py:151: UserWarning: Glyph 12392 (\\N{HIRAGANA LETTER TO}) missing from font(s) DejaVu Sans.\n",
            "  fig.canvas.print_figure(bytes_io, **kw)\n",
            "/usr/local/lib/python3.12/dist-packages/IPython/core/pylabtools.py:151: UserWarning: Glyph 12398 (\\N{HIRAGANA LETTER NO}) missing from font(s) DejaVu Sans.\n",
            "  fig.canvas.print_figure(bytes_io, **kw)\n",
            "/usr/local/lib/python3.12/dist-packages/IPython/core/pylabtools.py:151: UserWarning: Glyph 25512 (\\N{CJK UNIFIED IDEOGRAPH-63A8}) missing from font(s) DejaVu Sans.\n",
            "  fig.canvas.print_figure(bytes_io, **kw)\n",
            "/usr/local/lib/python3.12/dist-packages/IPython/core/pylabtools.py:151: UserWarning: Glyph 31227 (\\N{CJK UNIFIED IDEOGRAPH-79FB}) missing from font(s) DejaVu Sans.\n",
            "  fig.canvas.print_figure(bytes_io, **kw)\n",
            "/usr/local/lib/python3.12/dist-packages/IPython/core/pylabtools.py:151: UserWarning: Glyph 25968 (\\N{CJK UNIFIED IDEOGRAPH-6570}) missing from font(s) DejaVu Sans.\n",
            "  fig.canvas.print_figure(bytes_io, **kw)\n"
          ]
        },
        {
          "output_type": "display_data",
          "data": {
            "text/plain": [
              "<Figure size 640x480 with 1 Axes>"
            ],
            "image/png": "[encoded data removed]"
          },
          "metadata": {}
        }
      ]
    }
  ]
}